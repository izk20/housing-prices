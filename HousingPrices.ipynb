{
 "cells": [
  {
   "cell_type": "markdown",
   "id": "43d689f6-b28e-452b-b7c4-bec8f1833cfa",
   "metadata": {},
   "source": [
    "# Prediction of Housing Prices"
   ]
  },
  {
   "cell_type": "markdown",
   "id": "c3b9a8bf-ff30-4cfc-914f-42a0d918715e",
   "metadata": {},
   "source": [
    "#### Cheng Zhang, Ahmed Rizk, Xiwen Wei, Aman Mehra"
   ]
  },
  {
   "cell_type": "markdown",
   "id": "3f1953e0-bf20-409f-ac4a-f41bc20baf9e",
   "metadata": {},
   "source": [
    "## Introduction"
   ]
  },
  {
   "cell_type": "code",
   "execution_count": null,
   "id": "0b8446a8-12d9-488e-acac-6b0caf8d86e5",
   "metadata": {},
   "outputs": [],
   "source": []
  },
  {
   "cell_type": "markdown",
   "id": "609b2d2f-98e3-4a84-a6d6-d6083981b21b",
   "metadata": {},
   "source": [
    "Due to the large growth of the urban population, housing resources seem to be relatively inadequate (Jiang & Qiu, 2022). Therefore, studying trends in housing prices has become a topic of great concern among economists and the government, due to the importance of real estate valuation on the general state of the population's economic state (Heldak & Pluciennik, 2019). The factors that can influence the housing price include (not limited to): housing area; the number of bedrooms/bathrooms; whether connected to Main Road; whether it has the basic conditions such as the hot-water heater or air-conditioning. Therefore, our team is going to predict what is the expected yield of a housing price (response variable) at a certain value of those factors (explanatory variables), and determine the best subset of factor(s) that produce the most accurate prediction model."
   ]
  },
  {
   "cell_type": "markdown",
   "id": "de645d6f-680c-4438-838b-3afc852f12dd",
   "metadata": {},
   "source": [
    "## Description of Dataset and Variables"
   ]
  },
  {
   "cell_type": "markdown",
   "id": "1ab0e0f3-c344-4daf-9f31-ff50009ec975",
   "metadata": {},
   "source": [
    "Our project is focused on prediction by using the following \"Housing Prices\" dataset https://www.kaggle.com/datasets/yasserh/housing-prices-dataset. It contains information about 546 houses with their prices, along with 12 descriptive variables."
   ]
  },
  {
   "cell_type": "code",
   "execution_count": null,
   "id": "3677c98b-46bc-44a0-be7f-9f0b398d0255",
   "metadata": {},
   "outputs": [],
   "source": [
    "## describe the variables one by one"
   ]
  },
  {
   "cell_type": "markdown",
   "id": "48e90249-0844-4f91-85cd-3a8c9227bc50",
   "metadata": {},
   "source": [
    "## Analysis Question"
   ]
  },
  {
   "cell_type": "markdown",
   "id": "d27092dc-3f0a-450b-a9f7-cd39be8f341b",
   "metadata": {},
   "source": [
    "##### Find the best predictive model to predict housing prices with the appropriately selected input variables."
   ]
  },
  {
   "cell_type": "markdown",
   "id": "bc4daa5d-fb95-4abd-a47d-3fec277ebd26",
   "metadata": {},
   "source": [
    "## Exploratory Data Analysis"
   ]
  },
  {
   "cell_type": "markdown",
   "id": "769bad6f-e8a4-42be-94f2-0c68ca2b4386",
   "metadata": {},
   "source": [
    "### Reading the data into R"
   ]
  },
  {
   "cell_type": "code",
   "execution_count": 1,
   "id": "eaa3475a-6c17-43ed-88d6-e11ba26eceb3",
   "metadata": {},
   "outputs": [
    {
     "name": "stderr",
     "output_type": "stream",
     "text": [
      "Warning message:\n",
      "\"package 'tidyverse' was built under R version 4.1.3\"\n",
      "-- \u001b[1mAttaching packages\u001b[22m ------------------------------------------------------------------------------- tidyverse 1.3.2 --\n",
      "\u001b[32mv\u001b[39m \u001b[34mggplot2\u001b[39m 3.3.6      \u001b[32mv\u001b[39m \u001b[34mpurrr  \u001b[39m 0.3.4 \n",
      "\u001b[32mv\u001b[39m \u001b[34mtibble \u001b[39m 3.1.8      \u001b[32mv\u001b[39m \u001b[34mdplyr  \u001b[39m 1.0.10\n",
      "\u001b[32mv\u001b[39m \u001b[34mtidyr  \u001b[39m 1.2.1      \u001b[32mv\u001b[39m \u001b[34mstringr\u001b[39m 1.4.1 \n",
      "\u001b[32mv\u001b[39m \u001b[34mreadr  \u001b[39m 2.1.2      \u001b[32mv\u001b[39m \u001b[34mforcats\u001b[39m 0.5.2 \n",
      "Warning message:\n",
      "\"package 'ggplot2' was built under R version 4.1.3\"\n",
      "Warning message:\n",
      "\"package 'tibble' was built under R version 4.1.3\"\n",
      "Warning message:\n",
      "\"package 'tidyr' was built under R version 4.1.3\"\n",
      "Warning message:\n",
      "\"package 'readr' was built under R version 4.1.3\"\n",
      "Warning message:\n",
      "\"package 'purrr' was built under R version 4.1.2\"\n",
      "Warning message:\n",
      "\"package 'dplyr' was built under R version 4.1.3\"\n",
      "Warning message:\n",
      "\"package 'stringr' was built under R version 4.1.3\"\n",
      "Warning message:\n",
      "\"package 'forcats' was built under R version 4.1.3\"\n",
      "-- \u001b[1mConflicts\u001b[22m ---------------------------------------------------------------------------------- tidyverse_conflicts() --\n",
      "\u001b[31mx\u001b[39m \u001b[34mdplyr\u001b[39m::\u001b[32mfilter()\u001b[39m masks \u001b[34mstats\u001b[39m::filter()\n",
      "\u001b[31mx\u001b[39m \u001b[34mdplyr\u001b[39m::\u001b[32mlag()\u001b[39m    masks \u001b[34mstats\u001b[39m::lag()\n",
      "Warning message:\n",
      "\"package 'gridExtra' was built under R version 4.1.2\"\n",
      "\n",
      "Attaching package: 'gridExtra'\n",
      "\n",
      "\n",
      "The following object is masked from 'package:dplyr':\n",
      "\n",
      "    combine\n",
      "\n",
      "\n",
      "Warning message:\n",
      "\"package 'GGally' was built under R version 4.1.2\"\n",
      "Registered S3 method overwritten by 'GGally':\n",
      "  method from   \n",
      "  +.gg   ggplot2\n",
      "\n"
     ]
    }
   ],
   "source": [
    "library(tidyverse)\n",
    "library(gridExtra)\n",
    "library(GGally)"
   ]
  },
  {
   "cell_type": "code",
   "execution_count": 32,
   "id": "d970604d-69f0-4d65-90e0-55c3bc075c66",
   "metadata": {},
   "outputs": [],
   "source": [
    "data <- read.csv(\"Housing.csv\")"
   ]
  },
  {
   "cell_type": "markdown",
   "id": "0767f899-087b-4e7f-8f3f-47d3f9047c89",
   "metadata": {},
   "source": [
    "First, we look the variables in the dataset, and their types."
   ]
  },
  {
   "cell_type": "code",
   "execution_count": 33,
   "id": "f09c8020-087c-4558-89ef-1aba753027b3",
   "metadata": {},
   "outputs": [
    {
     "name": "stdout",
     "output_type": "stream",
     "text": [
      "Rows: 545\n",
      "Columns: 13\n",
      "$ price            \u001b[3m\u001b[90m<int>\u001b[39m\u001b[23m 13300000, 12250000, 12250000, 12215000, 11410000, 108~\n",
      "$ area             \u001b[3m\u001b[90m<int>\u001b[39m\u001b[23m 7420, 8960, 9960, 7500, 7420, 7500, 8580, 16200, 8100~\n",
      "$ bedrooms         \u001b[3m\u001b[90m<int>\u001b[39m\u001b[23m 4, 4, 3, 4, 4, 3, 4, 5, 4, 3, 3, 4, 4, 4, 3, 4, 4, 3,~\n",
      "$ bathrooms        \u001b[3m\u001b[90m<int>\u001b[39m\u001b[23m 2, 4, 2, 2, 1, 3, 3, 3, 1, 2, 1, 3, 2, 2, 2, 1, 2, 2,~\n",
      "$ stories          \u001b[3m\u001b[90m<int>\u001b[39m\u001b[23m 3, 4, 2, 2, 2, 1, 4, 2, 2, 4, 2, 2, 2, 2, 2, 2, 2, 4,~\n",
      "$ mainroad         \u001b[3m\u001b[90m<chr>\u001b[39m\u001b[23m \"yes\", \"yes\", \"yes\", \"yes\", \"yes\", \"yes\", \"yes\", \"yes~\n",
      "$ guestroom        \u001b[3m\u001b[90m<chr>\u001b[39m\u001b[23m \"no\", \"no\", \"no\", \"no\", \"yes\", \"no\", \"no\", \"no\", \"yes~\n",
      "$ basement         \u001b[3m\u001b[90m<chr>\u001b[39m\u001b[23m \"no\", \"no\", \"yes\", \"yes\", \"yes\", \"yes\", \"no\", \"no\", \"~\n",
      "$ hotwaterheating  \u001b[3m\u001b[90m<chr>\u001b[39m\u001b[23m \"no\", \"no\", \"no\", \"no\", \"no\", \"no\", \"no\", \"no\", \"no\",~\n",
      "$ airconditioning  \u001b[3m\u001b[90m<chr>\u001b[39m\u001b[23m \"yes\", \"yes\", \"no\", \"yes\", \"yes\", \"yes\", \"yes\", \"no\",~\n",
      "$ parking          \u001b[3m\u001b[90m<int>\u001b[39m\u001b[23m 2, 3, 2, 3, 2, 2, 2, 0, 2, 1, 2, 2, 1, 2, 0, 2, 1, 2,~\n",
      "$ prefarea         \u001b[3m\u001b[90m<chr>\u001b[39m\u001b[23m \"yes\", \"no\", \"yes\", \"yes\", \"no\", \"yes\", \"yes\", \"no\", ~\n",
      "$ furnishingstatus \u001b[3m\u001b[90m<chr>\u001b[39m\u001b[23m \"furnished\", \"furnished\", \"semi-furnished\", \"furnishe~\n"
     ]
    }
   ],
   "source": [
    "glimpse(data)"
   ]
  },
  {
   "cell_type": "markdown",
   "id": "5e7aaf11-394e-47eb-ae2a-762da9cd1857",
   "metadata": {},
   "source": [
    "We see that our response variable (price) is continuous and numeric. The predictor variables available to us outside 'area' seem to be predominantly categorical.\n",
    "'Bedrooms', 'Bathrooms' and 'Stories' are all ordinal variables represented numerically, so an important question in the analysis would be whether or not to change them to type 'factor'.\n",
    "\n",
    "Before we do this, we can first find the correlation matrix of the numeric variables."
   ]
  },
  {
   "cell_type": "code",
   "execution_count": 45,
   "id": "e08563f8-478c-4ac3-8d7c-54d969d91c51",
   "metadata": {},
   "outputs": [
    {
     "data": {
      "text/html": [
       "<table class=\"dataframe\">\n",
       "<caption>A data.frame: 6 × 6</caption>\n",
       "<thead>\n",
       "\t<tr><th></th><th scope=col>price</th><th scope=col>area</th><th scope=col>bedrooms</th><th scope=col>bathrooms</th><th scope=col>stories</th><th scope=col>parking</th></tr>\n",
       "\t<tr><th></th><th scope=col>&lt;int&gt;</th><th scope=col>&lt;int&gt;</th><th scope=col>&lt;int&gt;</th><th scope=col>&lt;int&gt;</th><th scope=col>&lt;int&gt;</th><th scope=col>&lt;int&gt;</th></tr>\n",
       "</thead>\n",
       "<tbody>\n",
       "\t<tr><th scope=row>1</th><td>13300000</td><td>7420</td><td>4</td><td>2</td><td>3</td><td>2</td></tr>\n",
       "\t<tr><th scope=row>2</th><td>12250000</td><td>8960</td><td>4</td><td>4</td><td>4</td><td>3</td></tr>\n",
       "\t<tr><th scope=row>3</th><td>12250000</td><td>9960</td><td>3</td><td>2</td><td>2</td><td>2</td></tr>\n",
       "\t<tr><th scope=row>4</th><td>12215000</td><td>7500</td><td>4</td><td>2</td><td>2</td><td>3</td></tr>\n",
       "\t<tr><th scope=row>5</th><td>11410000</td><td>7420</td><td>4</td><td>1</td><td>2</td><td>2</td></tr>\n",
       "\t<tr><th scope=row>6</th><td>10850000</td><td>7500</td><td>3</td><td>3</td><td>1</td><td>2</td></tr>\n",
       "</tbody>\n",
       "</table>\n"
      ],
      "text/latex": [
       "A data.frame: 6 × 6\n",
       "\\begin{tabular}{r|llllll}\n",
       "  & price & area & bedrooms & bathrooms & stories & parking\\\\\n",
       "  & <int> & <int> & <int> & <int> & <int> & <int>\\\\\n",
       "\\hline\n",
       "\t1 & 13300000 & 7420 & 4 & 2 & 3 & 2\\\\\n",
       "\t2 & 12250000 & 8960 & 4 & 4 & 4 & 3\\\\\n",
       "\t3 & 12250000 & 9960 & 3 & 2 & 2 & 2\\\\\n",
       "\t4 & 12215000 & 7500 & 4 & 2 & 2 & 3\\\\\n",
       "\t5 & 11410000 & 7420 & 4 & 1 & 2 & 2\\\\\n",
       "\t6 & 10850000 & 7500 & 3 & 3 & 1 & 2\\\\\n",
       "\\end{tabular}\n"
      ],
      "text/markdown": [
       "\n",
       "A data.frame: 6 × 6\n",
       "\n",
       "| <!--/--> | price &lt;int&gt; | area &lt;int&gt; | bedrooms &lt;int&gt; | bathrooms &lt;int&gt; | stories &lt;int&gt; | parking &lt;int&gt; |\n",
       "|---|---|---|---|---|---|---|\n",
       "| 1 | 13300000 | 7420 | 4 | 2 | 3 | 2 |\n",
       "| 2 | 12250000 | 8960 | 4 | 4 | 4 | 3 |\n",
       "| 3 | 12250000 | 9960 | 3 | 2 | 2 | 2 |\n",
       "| 4 | 12215000 | 7500 | 4 | 2 | 2 | 3 |\n",
       "| 5 | 11410000 | 7420 | 4 | 1 | 2 | 2 |\n",
       "| 6 | 10850000 | 7500 | 3 | 3 | 1 | 2 |\n",
       "\n"
      ],
      "text/plain": [
       "  price    area bedrooms bathrooms stories parking\n",
       "1 13300000 7420 4        2         3       2      \n",
       "2 12250000 8960 4        4         4       3      \n",
       "3 12250000 9960 3        2         2       2      \n",
       "4 12215000 7500 4        2         2       3      \n",
       "5 11410000 7420 4        1         2       2      \n",
       "6 10850000 7500 3        3         1       2      "
      ]
     },
     "metadata": {},
     "output_type": "display_data"
    }
   ],
   "source": [
    "datanum <- data[, c(1,2,3,4,5,11)]\n",
    "head(datanum)"
   ]
  },
  {
   "cell_type": "code",
   "execution_count": 46,
   "id": "d5c884d0-b0e3-488a-b932-b15aa69274c6",
   "metadata": {},
   "outputs": [
    {
     "data": {
      "text/html": [
       "<table class=\"dataframe\">\n",
       "<caption>A matrix: 6 × 6 of type dbl</caption>\n",
       "<thead>\n",
       "\t<tr><th></th><th scope=col>price</th><th scope=col>area</th><th scope=col>bedrooms</th><th scope=col>bathrooms</th><th scope=col>stories</th><th scope=col>parking</th></tr>\n",
       "</thead>\n",
       "<tbody>\n",
       "\t<tr><th scope=row>price</th><td>1.00</td><td>0.54</td><td>0.37</td><td>0.52</td><td>0.42</td><td>0.38</td></tr>\n",
       "\t<tr><th scope=row>area</th><td>0.54</td><td>1.00</td><td>0.15</td><td>0.19</td><td>0.08</td><td>0.35</td></tr>\n",
       "\t<tr><th scope=row>bedrooms</th><td>0.37</td><td>0.15</td><td>1.00</td><td>0.37</td><td>0.41</td><td>0.14</td></tr>\n",
       "\t<tr><th scope=row>bathrooms</th><td>0.52</td><td>0.19</td><td>0.37</td><td>1.00</td><td>0.33</td><td>0.18</td></tr>\n",
       "\t<tr><th scope=row>stories</th><td>0.42</td><td>0.08</td><td>0.41</td><td>0.33</td><td>1.00</td><td>0.05</td></tr>\n",
       "\t<tr><th scope=row>parking</th><td>0.38</td><td>0.35</td><td>0.14</td><td>0.18</td><td>0.05</td><td>1.00</td></tr>\n",
       "</tbody>\n",
       "</table>\n"
      ],
      "text/latex": [
       "A matrix: 6 × 6 of type dbl\n",
       "\\begin{tabular}{r|llllll}\n",
       "  & price & area & bedrooms & bathrooms & stories & parking\\\\\n",
       "\\hline\n",
       "\tprice & 1.00 & 0.54 & 0.37 & 0.52 & 0.42 & 0.38\\\\\n",
       "\tarea & 0.54 & 1.00 & 0.15 & 0.19 & 0.08 & 0.35\\\\\n",
       "\tbedrooms & 0.37 & 0.15 & 1.00 & 0.37 & 0.41 & 0.14\\\\\n",
       "\tbathrooms & 0.52 & 0.19 & 0.37 & 1.00 & 0.33 & 0.18\\\\\n",
       "\tstories & 0.42 & 0.08 & 0.41 & 0.33 & 1.00 & 0.05\\\\\n",
       "\tparking & 0.38 & 0.35 & 0.14 & 0.18 & 0.05 & 1.00\\\\\n",
       "\\end{tabular}\n"
      ],
      "text/markdown": [
       "\n",
       "A matrix: 6 × 6 of type dbl\n",
       "\n",
       "| <!--/--> | price | area | bedrooms | bathrooms | stories | parking |\n",
       "|---|---|---|---|---|---|---|\n",
       "| price | 1.00 | 0.54 | 0.37 | 0.52 | 0.42 | 0.38 |\n",
       "| area | 0.54 | 1.00 | 0.15 | 0.19 | 0.08 | 0.35 |\n",
       "| bedrooms | 0.37 | 0.15 | 1.00 | 0.37 | 0.41 | 0.14 |\n",
       "| bathrooms | 0.52 | 0.19 | 0.37 | 1.00 | 0.33 | 0.18 |\n",
       "| stories | 0.42 | 0.08 | 0.41 | 0.33 | 1.00 | 0.05 |\n",
       "| parking | 0.38 | 0.35 | 0.14 | 0.18 | 0.05 | 1.00 |\n",
       "\n"
      ],
      "text/plain": [
       "          price area bedrooms bathrooms stories parking\n",
       "price     1.00  0.54 0.37     0.52      0.42    0.38   \n",
       "area      0.54  1.00 0.15     0.19      0.08    0.35   \n",
       "bedrooms  0.37  0.15 1.00     0.37      0.41    0.14   \n",
       "bathrooms 0.52  0.19 0.37     1.00      0.33    0.18   \n",
       "stories   0.42  0.08 0.41     0.33      1.00    0.05   \n",
       "parking   0.38  0.35 0.14     0.18      0.05    1.00   "
      ]
     },
     "metadata": {},
     "output_type": "display_data"
    }
   ],
   "source": [
    "cormat <- round(cor(datanum),2)\n",
    "head(cormat)"
   ]
  },
  {
   "cell_type": "markdown",
   "id": "45621cbc-e2b6-43ed-916c-3af3ca97d3ca",
   "metadata": {},
   "source": [
    "Our correlations are for the most part low, which could be explained by some numeric variables being better represented as 'factor' since they are discrete.\n",
    "The correlations between predictor variables are also low, indicating that the relationships between them are moderate to weak (which indicates low multicollinearity). We can use VIF scores later on to confirm this theory."
   ]
  },
  {
   "cell_type": "markdown",
   "id": "89db3e8d-9c18-4e56-8200-bf4ecad08868",
   "metadata": {},
   "source": [
    "### Cleaning and Wrangling"
   ]
  },
  {
   "cell_type": "markdown",
   "id": "67c10e8e-78fc-46d9-9071-42d996ecd58b",
   "metadata": {},
   "source": [
    "First, we check any of the rows/values in the dataset are NA."
   ]
  },
  {
   "cell_type": "code",
   "execution_count": 38,
   "id": "04d14dab-45ae-4aa3-ab05-6f2a4a2855ae",
   "metadata": {},
   "outputs": [
    {
     "data": {
      "text/html": [
       "0"
      ],
      "text/latex": [
       "0"
      ],
      "text/markdown": [
       "0"
      ],
      "text/plain": [
       "[1] 0"
      ]
     },
     "metadata": {},
     "output_type": "display_data"
    }
   ],
   "source": [
    "sum(is.na(data))"
   ]
  },
  {
   "cell_type": "markdown",
   "id": "5ec4e458-fd60-447f-aa86-5eb7cd3c48ef",
   "metadata": {},
   "source": [
    "Given that there are none, we can move on to transforming the appropriate categorical variables to type \"factor\"."
   ]
  },
  {
   "cell_type": "code",
   "execution_count": 47,
   "id": "b3178aa4-f62a-4e5e-bc14-80b56af92b43",
   "metadata": {},
   "outputs": [],
   "source": [
    "categcols = c('bedrooms', 'bathrooms', 'stories', 'mainroad', 'guestroom', 'basement', 'hotwaterheating', 'airconditioning', 'parking', 'prefarea', 'furnishingstatus')"
   ]
  },
  {
   "cell_type": "code",
   "execution_count": 48,
   "id": "9bc29f0e-4b1b-4cf3-ab2a-01dc07d73e24",
   "metadata": {},
   "outputs": [],
   "source": [
    "data[categcols] = lapply(data[categcols], as.factor)"
   ]
  },
  {
   "cell_type": "markdown",
   "id": "8fc55190-e6d1-4874-8266-e64aec49f1bd",
   "metadata": {},
   "source": [
    "Next, we check the levels of each factor."
   ]
  },
  {
   "cell_type": "code",
   "execution_count": 49,
   "id": "61d84789-5126-4a0c-9264-31908bbda3f6",
   "metadata": {},
   "outputs": [
    {
     "data": {
      "text/html": [
       "<dl>\n",
       "\t<dt>$bedrooms</dt>\n",
       "\t\t<dd><style>\n",
       ".list-inline {list-style: none; margin:0; padding: 0}\n",
       ".list-inline>li {display: inline-block}\n",
       ".list-inline>li:not(:last-child)::after {content: \"\\00b7\"; padding: 0 .5ex}\n",
       "</style>\n",
       "<ol class=list-inline><li>'1'</li><li>'2'</li><li>'3'</li><li>'4'</li><li>'5'</li><li>'6'</li></ol>\n",
       "</dd>\n",
       "\t<dt>$bathrooms</dt>\n",
       "\t\t<dd><style>\n",
       ".list-inline {list-style: none; margin:0; padding: 0}\n",
       ".list-inline>li {display: inline-block}\n",
       ".list-inline>li:not(:last-child)::after {content: \"\\00b7\"; padding: 0 .5ex}\n",
       "</style>\n",
       "<ol class=list-inline><li>'1'</li><li>'2'</li><li>'3'</li><li>'4'</li></ol>\n",
       "</dd>\n",
       "\t<dt>$stories</dt>\n",
       "\t\t<dd><style>\n",
       ".list-inline {list-style: none; margin:0; padding: 0}\n",
       ".list-inline>li {display: inline-block}\n",
       ".list-inline>li:not(:last-child)::after {content: \"\\00b7\"; padding: 0 .5ex}\n",
       "</style>\n",
       "<ol class=list-inline><li>'1'</li><li>'2'</li><li>'3'</li><li>'4'</li></ol>\n",
       "</dd>\n",
       "\t<dt>$mainroad</dt>\n",
       "\t\t<dd><style>\n",
       ".list-inline {list-style: none; margin:0; padding: 0}\n",
       ".list-inline>li {display: inline-block}\n",
       ".list-inline>li:not(:last-child)::after {content: \"\\00b7\"; padding: 0 .5ex}\n",
       "</style>\n",
       "<ol class=list-inline><li>'no'</li><li>'yes'</li></ol>\n",
       "</dd>\n",
       "\t<dt>$guestroom</dt>\n",
       "\t\t<dd><style>\n",
       ".list-inline {list-style: none; margin:0; padding: 0}\n",
       ".list-inline>li {display: inline-block}\n",
       ".list-inline>li:not(:last-child)::after {content: \"\\00b7\"; padding: 0 .5ex}\n",
       "</style>\n",
       "<ol class=list-inline><li>'no'</li><li>'yes'</li></ol>\n",
       "</dd>\n",
       "\t<dt>$basement</dt>\n",
       "\t\t<dd><style>\n",
       ".list-inline {list-style: none; margin:0; padding: 0}\n",
       ".list-inline>li {display: inline-block}\n",
       ".list-inline>li:not(:last-child)::after {content: \"\\00b7\"; padding: 0 .5ex}\n",
       "</style>\n",
       "<ol class=list-inline><li>'no'</li><li>'yes'</li></ol>\n",
       "</dd>\n",
       "\t<dt>$hotwaterheating</dt>\n",
       "\t\t<dd><style>\n",
       ".list-inline {list-style: none; margin:0; padding: 0}\n",
       ".list-inline>li {display: inline-block}\n",
       ".list-inline>li:not(:last-child)::after {content: \"\\00b7\"; padding: 0 .5ex}\n",
       "</style>\n",
       "<ol class=list-inline><li>'no'</li><li>'yes'</li></ol>\n",
       "</dd>\n",
       "\t<dt>$airconditioning</dt>\n",
       "\t\t<dd><style>\n",
       ".list-inline {list-style: none; margin:0; padding: 0}\n",
       ".list-inline>li {display: inline-block}\n",
       ".list-inline>li:not(:last-child)::after {content: \"\\00b7\"; padding: 0 .5ex}\n",
       "</style>\n",
       "<ol class=list-inline><li>'no'</li><li>'yes'</li></ol>\n",
       "</dd>\n",
       "\t<dt>$parking</dt>\n",
       "\t\t<dd><style>\n",
       ".list-inline {list-style: none; margin:0; padding: 0}\n",
       ".list-inline>li {display: inline-block}\n",
       ".list-inline>li:not(:last-child)::after {content: \"\\00b7\"; padding: 0 .5ex}\n",
       "</style>\n",
       "<ol class=list-inline><li>'0'</li><li>'1'</li><li>'2'</li><li>'3'</li></ol>\n",
       "</dd>\n",
       "\t<dt>$prefarea</dt>\n",
       "\t\t<dd><style>\n",
       ".list-inline {list-style: none; margin:0; padding: 0}\n",
       ".list-inline>li {display: inline-block}\n",
       ".list-inline>li:not(:last-child)::after {content: \"\\00b7\"; padding: 0 .5ex}\n",
       "</style>\n",
       "<ol class=list-inline><li>'no'</li><li>'yes'</li></ol>\n",
       "</dd>\n",
       "\t<dt>$furnishingstatus</dt>\n",
       "\t\t<dd><style>\n",
       ".list-inline {list-style: none; margin:0; padding: 0}\n",
       ".list-inline>li {display: inline-block}\n",
       ".list-inline>li:not(:last-child)::after {content: \"\\00b7\"; padding: 0 .5ex}\n",
       "</style>\n",
       "<ol class=list-inline><li>'furnished'</li><li>'semi-furnished'</li><li>'unfurnished'</li></ol>\n",
       "</dd>\n",
       "</dl>\n"
      ],
      "text/latex": [
       "\\begin{description}\n",
       "\\item[\\$bedrooms] \\begin{enumerate*}\n",
       "\\item '1'\n",
       "\\item '2'\n",
       "\\item '3'\n",
       "\\item '4'\n",
       "\\item '5'\n",
       "\\item '6'\n",
       "\\end{enumerate*}\n",
       "\n",
       "\\item[\\$bathrooms] \\begin{enumerate*}\n",
       "\\item '1'\n",
       "\\item '2'\n",
       "\\item '3'\n",
       "\\item '4'\n",
       "\\end{enumerate*}\n",
       "\n",
       "\\item[\\$stories] \\begin{enumerate*}\n",
       "\\item '1'\n",
       "\\item '2'\n",
       "\\item '3'\n",
       "\\item '4'\n",
       "\\end{enumerate*}\n",
       "\n",
       "\\item[\\$mainroad] \\begin{enumerate*}\n",
       "\\item 'no'\n",
       "\\item 'yes'\n",
       "\\end{enumerate*}\n",
       "\n",
       "\\item[\\$guestroom] \\begin{enumerate*}\n",
       "\\item 'no'\n",
       "\\item 'yes'\n",
       "\\end{enumerate*}\n",
       "\n",
       "\\item[\\$basement] \\begin{enumerate*}\n",
       "\\item 'no'\n",
       "\\item 'yes'\n",
       "\\end{enumerate*}\n",
       "\n",
       "\\item[\\$hotwaterheating] \\begin{enumerate*}\n",
       "\\item 'no'\n",
       "\\item 'yes'\n",
       "\\end{enumerate*}\n",
       "\n",
       "\\item[\\$airconditioning] \\begin{enumerate*}\n",
       "\\item 'no'\n",
       "\\item 'yes'\n",
       "\\end{enumerate*}\n",
       "\n",
       "\\item[\\$parking] \\begin{enumerate*}\n",
       "\\item '0'\n",
       "\\item '1'\n",
       "\\item '2'\n",
       "\\item '3'\n",
       "\\end{enumerate*}\n",
       "\n",
       "\\item[\\$prefarea] \\begin{enumerate*}\n",
       "\\item 'no'\n",
       "\\item 'yes'\n",
       "\\end{enumerate*}\n",
       "\n",
       "\\item[\\$furnishingstatus] \\begin{enumerate*}\n",
       "\\item 'furnished'\n",
       "\\item 'semi-furnished'\n",
       "\\item 'unfurnished'\n",
       "\\end{enumerate*}\n",
       "\n",
       "\\end{description}\n"
      ],
      "text/markdown": [
       "$bedrooms\n",
       ":   1. '1'\n",
       "2. '2'\n",
       "3. '3'\n",
       "4. '4'\n",
       "5. '5'\n",
       "6. '6'\n",
       "\n",
       "\n",
       "\n",
       "$bathrooms\n",
       ":   1. '1'\n",
       "2. '2'\n",
       "3. '3'\n",
       "4. '4'\n",
       "\n",
       "\n",
       "\n",
       "$stories\n",
       ":   1. '1'\n",
       "2. '2'\n",
       "3. '3'\n",
       "4. '4'\n",
       "\n",
       "\n",
       "\n",
       "$mainroad\n",
       ":   1. 'no'\n",
       "2. 'yes'\n",
       "\n",
       "\n",
       "\n",
       "$guestroom\n",
       ":   1. 'no'\n",
       "2. 'yes'\n",
       "\n",
       "\n",
       "\n",
       "$basement\n",
       ":   1. 'no'\n",
       "2. 'yes'\n",
       "\n",
       "\n",
       "\n",
       "$hotwaterheating\n",
       ":   1. 'no'\n",
       "2. 'yes'\n",
       "\n",
       "\n",
       "\n",
       "$airconditioning\n",
       ":   1. 'no'\n",
       "2. 'yes'\n",
       "\n",
       "\n",
       "\n",
       "$parking\n",
       ":   1. '0'\n",
       "2. '1'\n",
       "3. '2'\n",
       "4. '3'\n",
       "\n",
       "\n",
       "\n",
       "$prefarea\n",
       ":   1. 'no'\n",
       "2. 'yes'\n",
       "\n",
       "\n",
       "\n",
       "$furnishingstatus\n",
       ":   1. 'furnished'\n",
       "2. 'semi-furnished'\n",
       "3. 'unfurnished'\n",
       "\n",
       "\n",
       "\n",
       "\n",
       "\n"
      ],
      "text/plain": [
       "$bedrooms\n",
       "[1] \"1\" \"2\" \"3\" \"4\" \"5\" \"6\"\n",
       "\n",
       "$bathrooms\n",
       "[1] \"1\" \"2\" \"3\" \"4\"\n",
       "\n",
       "$stories\n",
       "[1] \"1\" \"2\" \"3\" \"4\"\n",
       "\n",
       "$mainroad\n",
       "[1] \"no\"  \"yes\"\n",
       "\n",
       "$guestroom\n",
       "[1] \"no\"  \"yes\"\n",
       "\n",
       "$basement\n",
       "[1] \"no\"  \"yes\"\n",
       "\n",
       "$hotwaterheating\n",
       "[1] \"no\"  \"yes\"\n",
       "\n",
       "$airconditioning\n",
       "[1] \"no\"  \"yes\"\n",
       "\n",
       "$parking\n",
       "[1] \"0\" \"1\" \"2\" \"3\"\n",
       "\n",
       "$prefarea\n",
       "[1] \"no\"  \"yes\"\n",
       "\n",
       "$furnishingstatus\n",
       "[1] \"furnished\"      \"semi-furnished\" \"unfurnished\"   \n"
      ]
     },
     "metadata": {},
     "output_type": "display_data"
    }
   ],
   "source": [
    "lapply(data[categcols], levels)"
   ]
  },
  {
   "cell_type": "markdown",
   "id": "cd3784d2-83e2-448d-b167-bdea4873342a",
   "metadata": {},
   "source": [
    "We see that our categorical variables are a mix of binary and ordinal variables. Further modification is unnecessary at this point,\n",
    "as the lm function in R (to be used later in the analysis) encodes the dummy variables appropriately on its own.\n",
    "\n",
    "(ordinal does not create dummy variables, factor does. so test both models in final report and pick the one with lower rmse.)\n",
    "\n",
    "We can then check the class distributions."
   ]
  },
  {
   "cell_type": "code",
   "execution_count": null,
   "id": "f19b2d78-4674-4c02-9285-15008485c5f8",
   "metadata": {},
   "outputs": [],
   "source": []
  },
  {
   "cell_type": "code",
   "execution_count": 51,
   "id": "3ee068ca-70cf-4c7a-8238-e8fbb4475f92",
   "metadata": {},
   "outputs": [
    {
     "data": {
      "text/plain": [
       " bedrooms bathrooms stories mainroad  guestroom basement  hotwaterheating\n",
       " 1:  2    1:401     1:227   no : 77   no :448   no :354   no :520        \n",
       " 2:136    2:133     2:238   yes:468   yes: 97   yes:191   yes: 25        \n",
       " 3:300    3: 10     3: 39                                                \n",
       " 4: 95    4:  1     4: 41                                                \n",
       " 5: 10                                                                   \n",
       " 6:  2                                                                   \n",
       " airconditioning parking prefarea        furnishingstatus\n",
       " no :373         0:299   no :417   furnished     :140    \n",
       " yes:172         1:126   yes:128   semi-furnished:227    \n",
       "                 2:108             unfurnished   :178    \n",
       "                 3: 12                                   \n",
       "                                                         \n",
       "                                                         "
      ]
     },
     "metadata": {},
     "output_type": "display_data"
    }
   ],
   "source": [
    "summary(data[categcols])"
   ]
  },
  {
   "cell_type": "markdown",
   "id": "57519379-a244-4385-ad4f-1a558df0f741",
   "metadata": {},
   "source": [
    "It is clear that we have some class imbalances, especially in mainroad, guestroom and hotwaterheating. Visualising the distribution of price for each of the categorical\n",
    "variables should give us a good idea of the patterns within these classes."
   ]
  },
  {
   "cell_type": "markdown",
   "id": "a516e874-1a3c-42bf-933c-35e51b9e5f12",
   "metadata": {},
   "source": [
    "### Visualizations"
   ]
  },
  {
   "cell_type": "code",
   "execution_count": 9,
   "id": "2c48412a-eae5-4f56-b0f0-d6f1cafb0267",
   "metadata": {},
   "outputs": [
    {
     "data": {
      "image/png": "[encoded data removed]",
      "text/plain": [
       "plot without title"
      ]
     },
     "metadata": {
      "image/png": {
       "height": 480,
       "width": 900
      }
     },
     "output_type": "display_data"
    }
   ],
   "source": [
    "options(repr.plot.width = 15, repr.plot.height = 8) \n",
    "bed_box <- ggplot(data, aes(x = bedrooms, y = price)) + geom_boxplot() + \n",
    "        ggtitle(\"Figure 1a: Bedrooms vs Price\") + xlab(\"Bedrooms\") + ylab(\"Price\")\n",
    "bath_box <- ggplot(data, aes(x = bathrooms, y = price)) + geom_boxplot() + \n",
    "        ggtitle(\"Figure 1b: Bathrooms vs Price\") + xlab(\"Bathrooms\") + ylab(\"Price\")\n",
    "stories_box <- ggplot(data, aes(x = stories, y = price)) + geom_boxplot() + \n",
    "        ggtitle(\"Figure 1c: Stories vs Price\") + xlab(\"Stories\") + ylab(\"Price\")\n",
    "grid.arrange(bed_box, bath_box, stories_box, ncol=3, widths = c(6,6,6))"
   ]
  },
  {
   "cell_type": "code",
   "execution_count": null,
   "id": "05627d2b-c44c-429c-bd52-ec8625a01824",
   "metadata": {},
   "outputs": [],
   "source": []
  },
  {
   "cell_type": "code",
   "execution_count": 10,
   "id": "f1db9929-5d52-411b-8b87-a523abc1afc9",
   "metadata": {},
   "outputs": [
    {
     "data": {
      "image/png": "[encoded data removed]",
      "text/plain": [
       "plot without title"
      ]
     },
     "metadata": {
      "image/png": {
       "height": 480,
       "width": 900
      }
     },
     "output_type": "display_data"
    }
   ],
   "source": [
    "options(repr.plot.width = 15, repr.plot.height = 8) \n",
    "main_box <- ggplot(data, aes(x = mainroad, y = price)) + geom_boxplot() + \n",
    "        ggtitle(\"Figure 2a: Main Road vs Price\") + xlab(\"Main Road\") + ylab(\"Price\")\n",
    "guest_box <- ggplot(data, aes(x = guestroom, y = price)) + geom_boxplot() + \n",
    "        ggtitle(\"Figure 2b: Guestrooms vs Price\") + xlab(\"Guestrooms\") + ylab(\"Price\")\n",
    "base_box <- ggplot(data, aes(x = basement, y = price)) + geom_boxplot() + \n",
    "        ggtitle(\"Figure 2c: Basement vs Price\") + xlab(\"Basement\") + ylab(\"Price\")\n",
    "grid.arrange(main_box, guest_box, base_box, ncol=3, widths = c(6,6,6))"
   ]
  },
  {
   "cell_type": "code",
   "execution_count": 11,
   "id": "c517bf97-0de5-466a-9c2d-fc234a3b51be",
   "metadata": {},
   "outputs": [
    {
     "data": {
      "image/png": "[encoded data removed]",
      "text/plain": [
       "plot without title"
      ]
     },
     "metadata": {
      "image/png": {
       "height": 480,
       "width": 900
      }
     },
     "output_type": "display_data"
    }
   ],
   "source": [
    "options(repr.plot.width = 15, repr.plot.height = 8) \n",
    "hwh_box <- ggplot(data, aes(x = hotwaterheating, y = price)) + geom_boxplot() + \n",
    "        ggtitle(\"Figure 3a: Hot Water Heating vs Price\") + xlab(\"Hot Water Heating\") + ylab(\"Price\")\n",
    "ac_box <- ggplot(data, aes(x = airconditioning, y = price)) + geom_boxplot() + \n",
    "        ggtitle(\"Figure 3b: Air Conditioning vs Price\") + xlab(\"Air Conditioning\") + ylab(\"Price\")\n",
    "prefarea_box <- ggplot(data, aes(x = prefarea, y = price)) + geom_boxplot() + \n",
    "        ggtitle(\"Figure 3c: Pref Area vs Price\") + xlab(\"Pref Area\") + ylab(\"Price\")\n",
    "grid.arrange(hwh_box, ac_box, prefarea_box, ncol=3, widths = c(6,6,6))"
   ]
  },
  {
   "cell_type": "code",
   "execution_count": 12,
   "id": "ba10ae0b-45c8-4cb8-9365-047edaea1da9",
   "metadata": {},
   "outputs": [
    {
     "data": {
      "image/png": "[encoded data removed]",
      "text/plain": [
       "plot without title"
      ]
     },
     "metadata": {
      "image/png": {
       "height": 480,
       "width": 900
      }
     },
     "output_type": "display_data"
    }
   ],
   "source": [
    "options(repr.plot.width = 15, repr.plot.height = 8) \n",
    "parking_box <- ggplot(data, aes(x = parking, y = price)) + geom_boxplot() + \n",
    "        ggtitle(\"Figure 4a: Parking vs Price\") + xlab(\"Parking\") + ylab(\"Price\")\n",
    "fs_box <- ggplot(data, aes(x = furnishingstatus, y = price)) + geom_boxplot() + \n",
    "        ggtitle(\"Figure 4b: Furnishing Status vs Price\") + xlab(\"Furnishing Status\") + ylab(\"Price\")\n",
    "grid.arrange(parking_box, fs_box, ncol=2, widths = c(6,6))"
   ]
  },
  {
   "cell_type": "code",
   "execution_count": null,
   "id": "8570e809-1318-4165-a9cb-caeadc21343c",
   "metadata": {},
   "outputs": [],
   "source": []
  },
  {
   "cell_type": "code",
   "execution_count": 54,
   "id": "d5468cee-8bda-4ab9-b7d0-fedfce3d1172",
   "metadata": {},
   "outputs": [
    {
     "name": "stderr",
     "output_type": "stream",
     "text": [
      "`geom_smooth()` using formula 'y ~ x'\n",
      "\n"
     ]
    },
    {
     "data": {
      "image/png": "[encoded data removed]",
      "text/plain": [
       "plot without title"
      ]
     },
     "metadata": {
      "image/png": {
       "height": 480,
       "width": 900
      }
     },
     "output_type": "display_data"
    }
   ],
   "source": [
    "ggplot(data, aes(x = area, y = price)) + geom_point() + geom_smooth(method = \"lm\") + xlab(\"Area\") + ylab(\"Price\")"
   ]
  },
  {
   "cell_type": "code",
   "execution_count": 25,
   "id": "bd608777-cf08-4e3c-9289-fc0039fd933d",
   "metadata": {},
   "outputs": [
    {
     "data": {
      "text/html": [
       "0.53599734577808"
      ],
      "text/latex": [
       "0.53599734577808"
      ],
      "text/markdown": [
       "0.53599734577808"
      ],
      "text/plain": [
       "[1] 0.5359973"
      ]
     },
     "metadata": {},
     "output_type": "display_data"
    }
   ],
   "source": [
    "cor(data$price, data$area)"
   ]
  },
  {
   "cell_type": "markdown",
   "id": "65a5485f-ade7-4ed7-a0df-1738febd7209",
   "metadata": {},
   "source": [
    "(moderately positive correlation but not strong)"
   ]
  },
  {
   "cell_type": "code",
   "execution_count": 57,
   "id": "dfaebedf-c316-4a20-a3dd-3e9c9015a41a",
   "metadata": {},
   "outputs": [
    {
     "data": {
      "image/png": "[encoded data removed]",
      "text/plain": [
       "Plot with title \"Normal Q-Q Plot\""
      ]
     },
     "metadata": {
      "image/png": {
       "height": 480,
       "width": 900
      }
     },
     "output_type": "display_data"
    }
   ],
   "source": [
    "qqnorm(data$price)\n",
    "qqline(data$price)"
   ]
  },
  {
   "cell_type": "markdown",
   "id": "51a133e8-430d-48b5-9fdb-df218d1cb666",
   "metadata": {},
   "source": [
    "(maybe take this out?)"
   ]
  },
  {
   "cell_type": "markdown",
   "id": "f1046c9a-b0aa-46ff-8ace-d808e2d463c0",
   "metadata": {},
   "source": [
    "## Methods "
   ]
  },
  {
   "cell_type": "markdown",
   "id": "a5951a8e-1a78-44de-8e6f-4fab3efd8ae5",
   "metadata": {},
   "source": [
    "### Description of Methods:"
   ]
  },
  {
   "cell_type": "markdown",
   "id": "f944240b-cd84-402a-bec8-031393e23dcb",
   "metadata": {},
   "source": [
    "1. Using the numerical representation, we first investigate if there is multicollinearity among the numeric predictor variables and drop those associated with the largest VIFs. \n",
    "2. Using least squares regression, we will create several linear models to predict the response variable (house price).\n",
    "3. The best model will be chosen by using a forward selection algorithm and comparing different statistics such as the Mallows Cp value, which will select the appropriate input variables.\n",
    "4. We repeat this process using the other dataset with categorical variables represented as 'factor'.\n",
    "5. We then create a least squares regression model using the selected input variables and train both models on the training dataset.\n",
    "6. We go on to make predictions for the test data set values and then find the mean squared error to check the efficiency of both models. The model with the lowest rmse would be the best model."
   ]
  },
  {
   "cell_type": "markdown",
   "id": "accc2c50-502f-4cc9-9f63-531f246a3976",
   "metadata": {},
   "source": [
    "1. What do you expect to achieve? \n",
    "\n",
    "We expect to find a predictive linear model with the best subset of input variables, represented appropriately, that produces the lowest rmse.\n",
    "This model would enable us to predict housing prices on deployment data to a good extent, assuming our sample dataset is representative of the population.\n",
    "\n",
    "2. What impact could your results have?\n",
    "\n",
    "Understand the key factors that affect the house prices. As owners, we can increase the room rent reasonably by enhancing the important factors that positively affect the prices. As renters, we can properly analyze the shining points of different types of houses and choose the most cost-effective one.\n",
    "\n",
    "3. How is the report trustworthy? \n",
    "\n",
    "Our dataset consists of randomly and independently selected 545 observations, and no NA values in any column. This means that the data follows a normal distribution due to the large sample size, by fulfilling the conditions of the central limit theorem. We will deal with the presence of multicollinearity, which will make our final model less sensitive to small changes in the dataset (and less overfit on the training data). We will also use forward selection to choose the best variables for the predictive model, which means our model will only use the necessary amount of predictors. Therefore, our model should generalize well to new data due to having low variance. \n",
    "\n",
    "We will also evaluate our model using a testing dataset (which is still large enough by the conditions of the CLT), to approximate the error on new data.\n",
    "This approximated error will then be used to choose our final model, and so our idea of the deployment error will not be underestimated (as it is not based on the training data used to fit the model).\n"
   ]
  },
  {
   "cell_type": "code",
   "execution_count": null,
   "id": "9d844d3b-eb14-404c-881c-05ccc8b40e37",
   "metadata": {},
   "outputs": [],
   "source": []
  },
  {
   "cell_type": "markdown",
   "id": "edde7dc7-5d08-4e41-b7b2-212272c1c3f2",
   "metadata": {},
   "source": [
    "### References"
   ]
  },
  {
   "cell_type": "markdown",
   "id": "02c5148f-015f-4c7c-b1d7-653129471009",
   "metadata": {},
   "source": [
    "Heldak, M., & Pluciennik, M. (2019). Financing housing support programs in poland in the                                 light of national housing resources. IOP Conference Series. Materials Science and   Engineering, 471(11), 112031. https://doi.org/10.1088/1757-899X/471/11/112031\n",
    "\n",
    "Jiang, Y., & Qiu, L. (2022). Empirical study on the influencing factors of housing price –––Based on cross-section data of 31 provinces and cities in china. Procedia Computer Science, 199, 1498-1504. https://doi.org/10.1016/j.procs.2022.01.191\n"
   ]
  },
  {
   "cell_type": "code",
   "execution_count": null,
   "id": "3f495ac2-510d-4c14-9ac0-552e95d51e3d",
   "metadata": {},
   "outputs": [],
   "source": []
  }
 ],
 "metadata": {
  "kernelspec": {
   "display_name": "R",
   "language": "R",
   "name": "ir"
  },
  "language_info": {
   "codemirror_mode": "r",
   "file_extension": ".r",
   "mimetype": "text/x-r-source",
   "name": "R",
   "pygments_lexer": "r",
   "version": "4.1.1"
  }
 },
 "nbformat": 4,
 "nbformat_minor": 5
}
